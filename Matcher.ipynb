{
 "cells": [
  {
   "cell_type": "code",
   "execution_count": 1,
   "metadata": {},
   "outputs": [],
   "source": [
    "#https://openpyxl.readthedocs.io/en/stable/\n",
    "from openpyxl import load_workbook"
   ]
  },
  {
   "cell_type": "code",
   "execution_count": 2,
   "metadata": {},
   "outputs": [],
   "source": [
    "#This program will open excel and will compare one column from all of the rows between two sheets (A and B)\n",
    "#and create two new sheets.\n",
    "#Each sheet will list every row from A with the rows from B under it that matched it"
   ]
  },
  {
   "cell_type": "code",
   "execution_count": 3,
   "metadata": {},
   "outputs": [],
   "source": [
    "#Config Vars here:\n",
    "Excel_Filename = \"test.xlsx\"\n",
    "Name_Of_Sheet_A = \"A\"\n",
    "Name_Of_Sheet_B = \"B\"\n",
    "Col_To_Join_On_A = 2 #Number of the column, but REMEMBER TO SUBTRACT 1! If it's col 3, write 2 here.\n",
    "Col_To_Join_On_B = 2\n",
    "#TODO: Make this thing work\n",
    "Include_Not_Found = True\n",
    "\n",
    "#Derived config vars. Don't touch\n",
    "Name_Of_Sorted_Sheet_A = Name_Of_Sheet_A + \" compared with \" + Name_Of_Sheet_B\n",
    "Name_Of_Sorted_Sheet_B = Name_Of_Sheet_B + \" compared with \" + Name_Of_Sheet_A"
   ]
  },
  {
   "cell_type": "code",
   "execution_count": 4,
   "metadata": {},
   "outputs": [],
   "source": [
    "#Opening the files and loading the variables\n",
    "wb = load_workbook(Excel_Filename)\n",
    "sheet_A = wb[Name_Of_Sheet_A]\n",
    "sheet_B = wb[Name_Of_Sheet_B]\n",
    "\n",
    "sheet_A_sorted = wb.create_sheet(Name_Of_Sheet_A + \" Sorted\")\n",
    "sheet_B_sorted = wb.create_sheet(Name_Of_Sheet_B + \" Sorted\")"
   ]
  },
  {
   "cell_type": "code",
   "execution_count": 5,
   "metadata": {},
   "outputs": [],
   "source": [
    "#Turn the WS object into list form\n",
    "def worksheet_to_list(ws):\n",
    "    ws_values = ws.values\n",
    "    return [list(row) for row in ws_values]\n",
    "\n",
    "sheet_A_list_form = worksheet_to_list(sheet_A)\n",
    "sheet_B_list_form = worksheet_to_list(sheet_B)"
   ]
  },
  {
   "cell_type": "code",
   "execution_count": 6,
   "metadata": {},
   "outputs": [],
   "source": [
    "#Isolate the columns that we're supposed to be matching on\n",
    "\n",
    "#the_col_to_be_compared_in_sheet_b\n",
    "col_B = [row[Col_To_Join_On_B] for row in sheet_B_list_form]\n",
    "#the_col_to_be_compared_in_sheet_a \n",
    "col_A = [row[Col_To_Join_On_A] for row in sheet_A_list_form]"
   ]
  },
  {
   "cell_type": "code",
   "execution_count": 7,
   "metadata": {},
   "outputs": [],
   "source": [
    "#We're going to loop through every single item in col_A and see if there's a match in colB\n",
    "#We will get the indicies (aka row number) for all rows in sheet B that matched\n",
    "#We will copy/extract those rows from sheet_B\n",
    "\n",
    "#and write them to a new sheet in form:\n",
    "# Row from Sheet A:\n",
    "# X X X X X\n",
    "# Matching Rows from Sheet B:\n",
    "# Y Y Y Y Y\n",
    "# Y Y Y Y Y\n",
    "# Y Y Y Y Y"
   ]
  },
  {
   "cell_type": "code",
   "execution_count": 8,
   "metadata": {},
   "outputs": [],
   "source": [
    "####===FOR SHEET A===####\n",
    "#Looping through every single thing in A\n",
    "for index, item in enumerate(col_A):\n",
    "    #Get the index of all rows in B that contain a match to our current item\n",
    "    matches = [ i for i in range(len(col_B)) if col_B[i] == item]\n",
    "    \n",
    "    #Get the row from A that we're going to put in\n",
    "    a_row = sheet_A_list_form[index]\n",
    "    \n",
    "    #print the relevant row from A first. BUT!....(see next line)\n",
    "    #Do we include Sheet A rows without matches?\n",
    "    if Include_Not_Found:\n",
    "        #If include_not_found is true, always write the row from sheet A\n",
    "        sheet_A_sorted.append(a_row)\n",
    "    else:\n",
    "        #Otherwise check if matches has anything.\n",
    "        #Only write row A if there are matches.\n",
    "        #Otherwise go to next loop.\n",
    "        if len(matches) > 0:\n",
    "            sheet_A_sorted.append(a_row)\n",
    "        else:\n",
    "            continue\n",
    "\n",
    "    for b_index in matches:\n",
    "        #I'm just splitting this up because it feels too verbose put together...\n",
    "        b_row = sheet_B_list_form[b_index]\n",
    "        sheet_A_sorted.append(b_row)\n",
    "    \n",
    "    #Add a space at the end to separate each batch of \n",
    "    #ZZZZZZ\n",
    "    #YYYYYY\n",
    "    #YYYYYY\n",
    "    sheet_A_sorted.append([])    "
   ]
  },
  {
   "cell_type": "code",
   "execution_count": 9,
   "metadata": {},
   "outputs": [],
   "source": [
    "#This is a copypasta of the above with var names and stuff switched\n",
    "####===FOR SHEET B.===####\n",
    "#Looping through every single thing in B\n",
    "for index, item in enumerate(col_B):\n",
    "    #Get the index of all rows in B that contain a match to our current item\n",
    "    matches = [ i for i in range(len(col_A)) if col_A[i] == item]\n",
    "    \n",
    "    #Get the row from A that we're going to put in\n",
    "    b_row = sheet_B_list_form[index]\n",
    "    \n",
    "    #print the relevant row from A first. BUT!....(see next line)\n",
    "    #Do we include Sheet A rows without matches?\n",
    "    if Include_Not_Found:\n",
    "        #If include_not_found is true, always write the row from sheet A\n",
    "        sheet_B_sorted.append(b_row)\n",
    "    else:\n",
    "        #Otherwise check if matches has anything.\n",
    "        #Only write row A if there are matches.\n",
    "        #Otherwise go to next loop.\n",
    "        if len(matches) > 0:\n",
    "            sheet_B_sorted.append(b_row)\n",
    "        else:\n",
    "            continue\n",
    "    \n",
    "    for a_index in matches:\n",
    "        #I'm just splitting this up because it feels too verbose put together...\n",
    "        a_row = sheet_A_list_form[a_index]\n",
    "        sheet_B_sorted.append(a_row)\n",
    "    \n",
    "    #Add a space at the end to separate each batch of \n",
    "    #ZZZZZZ\n",
    "    #YYYYYY\n",
    "    #YYYYYY\n",
    "    sheet_B_sorted.append([])\n",
    "    "
   ]
  },
  {
   "cell_type": "code",
   "execution_count": 10,
   "metadata": {},
   "outputs": [],
   "source": [
    "#The below uses a row counter and manually inserting data. The code is incomplete\n",
    "#The above will attempt to use append. Decided to try append approach instead of manually putting data in cells.\n",
    "    \n",
    "# #A counter for which row we're on in the compared_sheet. Starts at 1\n",
    "# #because excel starts at one.\n",
    "# row_counter = 1 \n",
    "\n",
    "# #Looping through every single thing in A\n",
    "# for index, item in enumerate(col_A):\n",
    "#     #Get the index of all rows in B that contain a match to our current item\n",
    "#     matches = [ i for i in range(len(col_B)) if col_B[i] == item]\n",
    "#     print (item)\n",
    "#     #print the relevant row from A first\n",
    "#     sheet_A_sorted.cell(row = row_counter, column=1).value = sheet_A_list_form[index]\n",
    "    \n",
    "#     #Add a space between row from Sheet A and the found rows from sheetB\n",
    "#     row_counter += 1\n",
    "    \n",
    "#     #Add 1 to the row counter in the end to add a space between each result\n",
    "#     row_counter += 1"
   ]
  },
  {
   "cell_type": "code",
   "execution_count": 11,
   "metadata": {},
   "outputs": [],
   "source": [
    "#This saves all of our changes above into the file\n",
    "wb.save(Excel_Filename)"
   ]
  }
 ],
 "metadata": {
  "kernelspec": {
   "display_name": "Python 3",
   "language": "python",
   "name": "python3"
  },
  "language_info": {
   "codemirror_mode": {
    "name": "ipython",
    "version": 3
   },
   "file_extension": ".py",
   "mimetype": "text/x-python",
   "name": "python",
   "nbconvert_exporter": "python",
   "pygments_lexer": "ipython3",
   "version": "3.7.4"
  }
 },
 "nbformat": 4,
 "nbformat_minor": 2
}
