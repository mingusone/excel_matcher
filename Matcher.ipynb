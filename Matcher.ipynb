{
 "cells": [
  {
   "cell_type": "code",
   "execution_count": 40,
   "metadata": {},
   "outputs": [],
   "source": [
    "%config IPCompleter.greedy=True"
   ]
  },
  {
   "cell_type": "code",
   "execution_count": 32,
   "metadata": {},
   "outputs": [],
   "source": [
    "#https://openpyxl.readthedocs.io/en/stable/\n",
    "from openpyxl import load_workbook"
   ]
  },
  {
   "cell_type": "code",
   "execution_count": 33,
   "metadata": {},
   "outputs": [],
   "source": [
    "#This program will open excel and will compare one column from all of the rows between two sheets (A and B)\n",
    "#and create two new sheets.\n",
    "#Each sheet will list every row from A with the rows from B under it that matched it"
   ]
  },
  {
   "cell_type": "code",
   "execution_count": 34,
   "metadata": {},
   "outputs": [],
   "source": [
    "#Config Vars here:\n",
    "Excel_Filename = \"test.xlsx\"\n",
    "Name_Of_Sheet_A = \"A\"\n",
    "Name_Of_Sheet_B = \"B\"\n",
    "Col_To_Join_On = 2 #Number of the column, but REMEMBER TO SUBTRACT 1! If it's col 3, write 2 here.\n",
    "Include_Not_Found = True\n",
    "\n",
    "#Derived config vars. Don't touch\n",
    "Name_Of_Sorted_Sheet_A = Name_Of_Sheet_A + \" compared with \" + Name_Of_Sheet_B"
   ]
  },
  {
   "cell_type": "code",
   "execution_count": 41,
   "metadata": {},
   "outputs": [],
   "source": [
    "#Opening the files and loading the variables\n",
    "wb = load_workbook(Excel_Filename)\n",
    "sheet_A = wb[Name_Of_Sheet_A]\n",
    "sheet_B = wb[Name_Of_Sheet_B]\n",
    "\n",
    "sheet_A_sorted = wb.create_sheet(Name_Of_Outer_Joined_Sheet_A)\n"
   ]
  },
  {
   "cell_type": "code",
   "execution_count": 36,
   "metadata": {},
   "outputs": [],
   "source": [
    "#Turn the WS object into list form\n",
    "def worksheet_to_list(ws):\n",
    "    ws_values = ws.values\n",
    "    return [list(row) for row in ws_values]"
   ]
  },
  {
   "cell_type": "code",
   "execution_count": 37,
   "metadata": {},
   "outputs": [],
   "source": [
    "sheet_A_list_form = worksheet_to_list(sheet_A)\n",
    "sheet_B_list_form = worksheet_to_list(sheet_B)"
   ]
  },
  {
   "cell_type": "code",
   "execution_count": 38,
   "metadata": {},
   "outputs": [],
   "source": [
    "#Isolate the columns that we're supposed to be matching on\n",
    "\n",
    "#the_col_to_be_compared_in_sheet_b\n",
    "col_B = [row[Col_To_Join_On] for row in sheet_B_list_form]\n",
    "#the_col_to_be_compared_in_sheet_a \n",
    "col_A = [row[Col_To_Join_On] for row in sheet_A_list_form]"
   ]
  },
  {
   "cell_type": "code",
   "execution_count": 47,
   "metadata": {},
   "outputs": [
    {
     "name": "stdout",
     "output_type": "stream",
     "text": [
      "11\n",
      "12\n",
      "13\n",
      "14\n",
      "15\n",
      "16\n",
      "17\n",
      "18\n",
      "19\n",
      "20\n",
      "10\n"
     ]
    }
   ],
   "source": [
    "#We're going to loop through every single item in col_A and see if there's a match in colB\n",
    "#We will get the indicies (aka row number) for all rows in sheet B that matched\n",
    "#We will copy/extract those rows from sheet_B\n",
    "\n",
    "#and write them to a new sheet in form:\n",
    "# Row from Sheet A:\n",
    "# X X X X X\n",
    "# Matching Rows from Sheet B:\n",
    "# Y Y Y Y Y\n",
    "# Y Y Y Y Y\n",
    "# Y Y Y Y Y\n",
    "\n",
    "#A counter for which row we're on in the compared_sheet. Starts at 1\n",
    "#because excel starts at one.\n",
    "row_counter = 1 \n",
    "\n",
    "#Looping through every single thing in A\n",
    "for index, item in enumerate(col_A):\n",
    "    #Get the index of all rows in B that contain a match to our current item\n",
    "    matches = [ i for i in range(len(col_B)) if col_B[i] == item]\n",
    "    print (item)\n",
    "    #print the relevant row from A first\n",
    "    sheet_A_sorted.cell(row = row_counter, column=1).value = item"
   ]
  },
  {
   "cell_type": "code",
   "execution_count": 45,
   "metadata": {},
   "outputs": [],
   "source": [
    "wb.save('test.xlsx')"
   ]
  },
  {
   "cell_type": "code",
   "execution_count": null,
   "metadata": {},
   "outputs": [],
   "source": [
    "\n",
    "# List of strings\n",
    "listOfElems = ['Hello', 'Ok', 'is', 'Ok', 'test', 'this', 'is', 'a', 'test', 'Ok']\n",
    " \n",
    "# Use List Comprehension Get indexes of all occurrences of 'Ok' in the list\n",
    "indexPosList = [ i for i in range(len(listOfElems)) if listOfElems[i] == 'Ok' ]\n",
    " \n",
    "print('Indexes of all occurrences of a \"Ok\" in the list are : ', indexPosList)"
   ]
  }
 ],
 "metadata": {
  "kernelspec": {
   "display_name": "Python 3",
   "language": "python",
   "name": "python3"
  },
  "language_info": {
   "codemirror_mode": {
    "name": "ipython",
    "version": 3
   },
   "file_extension": ".py",
   "mimetype": "text/x-python",
   "name": "python",
   "nbconvert_exporter": "python",
   "pygments_lexer": "ipython3",
   "version": "3.7.4"
  }
 },
 "nbformat": 4,
 "nbformat_minor": 2
}
